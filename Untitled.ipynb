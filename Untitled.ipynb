{
 "cells": [
  {
   "cell_type": "code",
   "execution_count": 1,
   "id": "9b2f5c8b",
   "metadata": {},
   "outputs": [],
   "source": [
    "import cv2\n",
    "import numpy as np"
   ]
  },
  {
   "cell_type": "code",
   "execution_count": 47,
   "id": "34a3b05b",
   "metadata": {},
   "outputs": [],
   "source": [
    "def display(image,image_name=\"image\"):\n",
    "    cv2.imshow(image_name,image)\n",
    "    cv2.waitKey(0)\n",
    "    cv2.destroyAllWindows()\n",
    "    "
   ]
  },
  {
   "cell_type": "code",
   "execution_count": 48,
   "id": "62d86ec0",
   "metadata": {},
   "outputs": [
    {
     "name": "stdout",
     "output_type": "stream",
     "text": [
      "(720, 1280, 3)\n"
     ]
    }
   ],
   "source": [
    "image = cv2.imread('eiffel.jpg')\n",
    "print(image.shape)\n",
    "image = cv2.resize(image,(600,600), interpolation=cv2.INTER_AREA)\n",
    "\n",
    "display(image)"
   ]
  },
  {
   "cell_type": "code",
   "execution_count": 24,
   "id": "10418480",
   "metadata": {},
   "outputs": [],
   "source": [
    "B,G,R= cv2.split(image)"
   ]
  },
  {
   "cell_type": "code",
   "execution_count": 25,
   "id": "0f8bedb6",
   "metadata": {},
   "outputs": [],
   "source": [
    "cv2.imshow('red',R)\n",
    "cv2.imshow('green',G)\n",
    "cv2.imshow('blue',B)\n",
    "cv2.waitKey(0)\n",
    "cv2.destroyAllWindows()"
   ]
  },
  {
   "cell_type": "code",
   "execution_count": 32,
   "id": "af7fd2f4",
   "metadata": {},
   "outputs": [
    {
     "data": {
      "text/plain": [
       "(600, 600)"
      ]
     },
     "execution_count": 32,
     "metadata": {},
     "output_type": "execute_result"
    }
   ],
   "source": [
    "zeros = np.zeros(image.shape[:2],dtype='uint8')\n",
    "zeros.shape"
   ]
  },
  {
   "cell_type": "code",
   "execution_count": 33,
   "id": "2e122130",
   "metadata": {},
   "outputs": [],
   "source": [
    "red_image = cv2.merge([zeros,zeros,R])\n",
    "green_image = cv2.merge([zeros,G,zeros])\n",
    "blue_image = cv2.merge([R,zeros,zeros])\n",
    "\n",
    "\n",
    "cv2.imshow('red',red_image)\n",
    "cv2.imshow('green',green_image)\n",
    "cv2.imshow('blue',blue_image)\n",
    "cv2.waitKey(0)\n",
    "cv2.destroyAllWindows()\n"
   ]
  },
  {
   "cell_type": "code",
   "execution_count": 50,
   "id": "bb9a2974",
   "metadata": {},
   "outputs": [],
   "source": [
    "gray_image = cv2.cvtColor(image,cv2.COLOR_BGR2GRAY)\n",
    "display(gray_image,'gray')"
   ]
  },
  {
   "cell_type": "code",
   "execution_count": 52,
   "id": "58dcbe07",
   "metadata": {},
   "outputs": [],
   "source": [
    "hsv_image = cv2.cvtColor(image,cv2.COLOR_BGR2HSV)\n",
    "display(hsv_image,'hsv_image')"
   ]
  },
  {
   "cell_type": "code",
   "execution_count": null,
   "id": "527b4158",
   "metadata": {},
   "outputs": [],
   "source": []
  }
 ],
 "metadata": {
  "kernelspec": {
   "display_name": "Python 3 (ipykernel)",
   "language": "python",
   "name": "python3"
  },
  "language_info": {
   "codemirror_mode": {
    "name": "ipython",
    "version": 3
   },
   "file_extension": ".py",
   "mimetype": "text/x-python",
   "name": "python",
   "nbconvert_exporter": "python",
   "pygments_lexer": "ipython3",
   "version": "3.10.4"
  }
 },
 "nbformat": 4,
 "nbformat_minor": 5
}
