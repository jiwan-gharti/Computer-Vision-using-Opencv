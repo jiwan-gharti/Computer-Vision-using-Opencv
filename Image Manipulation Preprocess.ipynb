{
 "cells": [
  {
   "cell_type": "code",
   "execution_count": 1,
   "id": "db0d1cfe",
   "metadata": {},
   "outputs": [],
   "source": [
    "import cv2\n",
    "import numpy as np"
   ]
  },
  {
   "cell_type": "markdown",
   "id": "226960a1",
   "metadata": {},
   "source": [
    "# Translation"
   ]
  },
  {
   "cell_type": "markdown",
   "id": "8425d17b",
   "metadata": {},
   "source": [
    "This is the simple translation along x-axis and y-axis uisng opencv.\n"
   ]
  },
  {
   "cell_type": "markdown",
   "id": "b5d749a1",
   "metadata": {},
   "source": [
    "We use cv2.warpAffine() function to implement the translation"
   ]
  },
  {
   "cell_type": "raw",
   "id": "a135b299",
   "metadata": {},
   "source": [
    "translation matrix M = |1 0 tx|\n",
    "                       |0 1 ty|"
   ]
  },
  {
   "cell_type": "code",
   "execution_count": null,
   "id": "6fe24323",
   "metadata": {},
   "outputs": [],
   "source": [
    "\n",
    "image = cv2.imread('images/tiger.jpeg')\n",
    "\n",
    "height, width = image.shape[:2]\n",
    "\n",
    "one_third_height, one_third_width = height/3, width/3\n",
    "\n",
    "matrix =np.array([\n",
    "    [1,0,one_third_height],\n",
    "    [0,1,one_third_width]\n",
    "])\n",
    "\n",
    "image_translation = cv2.warpAffine(image,matrix,(height,width))\n",
    "\n",
    "cv2.imshow('translated Image',cv2.resize(image_translation, (300,300),interpolation=cv2.INTER_AREA))\n",
    "cv2.waitKey(0)\n",
    "cv2.destroyAllWindows()\n",
    "\n"
   ]
  },
  {
   "cell_type": "code",
   "execution_count": null,
   "id": "af7b2eb5",
   "metadata": {},
   "outputs": [],
   "source": [
    "# translation matrix\n",
    "matrix"
   ]
  },
  {
   "cell_type": "markdown",
   "id": "faef3e92",
   "metadata": {},
   "source": [
    "# Rotation "
   ]
  },
  {
   "cell_type": "markdown",
   "id": "890c0544",
   "metadata": {},
   "source": [
    "Opencv allows you to rotate and scale at the same time using the function\n"
   ]
  },
  {
   "cell_type": "markdown",
   "id": "ed02e42e",
   "metadata": {},
   "source": [
    "***cv2.getRotationMatrix2D((rotation_center_x, rotation_center_y),angle_of_rotation,scale)***"
   ]
  },
  {
   "cell_type": "raw",
   "id": "02654d18",
   "metadata": {},
   "source": [
    "Rotation Matrix.   M = |cosA -sinA|\n",
    "                       |sinA  cosA|"
   ]
  },
  {
   "cell_type": "code",
   "execution_count": null,
   "id": "f3ab6a6a",
   "metadata": {},
   "outputs": [],
   "source": [
    "image = cv2.imread('images/eiffel.jpg')\n",
    "height,width = image.shape[:2]\n",
    "\n",
    "center = (height / 2, width / 2)\n",
    "\n",
    "rotated_matrix = cv2.getRotationMatrix2D(center, -30, 1)\n",
    "rotated_image = cv2.warpAffine(image,rotated_matrix,(width,height))\n",
    "\n",
    "cv2.imshow('rotated_image',cv2.resize(rotated_image,(300,300),interpolation = cv2.INTER_AREA))\n",
    "cv2.waitKey(0)\n",
    "cv2.destroyAllWindows()\n"
   ]
  },
  {
   "cell_type": "code",
   "execution_count": null,
   "id": "c7aa63ec",
   "metadata": {},
   "outputs": [],
   "source": [
    "# rotation matrix\n",
    "rotated_matrix"
   ]
  },
  {
   "cell_type": "markdown",
   "id": "9a4a4e5f",
   "metadata": {},
   "source": [
    "# Resizing and Scaling"
   ]
  },
  {
   "cell_type": "raw",
   "id": "0217fb9a",
   "metadata": {},
   "source": [
    "# interpolation:  the insertion of something of a different nature into something else."
   ]
  },
  {
   "cell_type": "code",
   "execution_count": null,
   "id": "0ac50d22",
   "metadata": {},
   "outputs": [],
   "source": [
    "image = cv2.imread('images/eiffel.jpg')\n",
    "\n",
    "inter_area_interpolation = cv2.resize(image,None,fx=.5,fy=.5,interpolation = cv2.INTER_AREA)\n",
    "cv2.imshow('inter_area',inter_area_interpolation)\n",
    "\n",
    "cv2.waitKey(1)\n",
    "\n",
    "inter_lanczos4_interpolation = cv2.resize(image,(300,300),interpolation = cv2.INTER_LANCZOS4)\n",
    "cv2.imshow('inter_lanczos4',inter_lanczos4_interpolation)\n",
    "\n",
    "inter_linear_interpolation = cv2.resize(image,(300,300),interpolation = cv2.INTER_LINEAR)\n",
    "cv2.imshow('inter_linear_interpolation',inter_linear_interpolation)\n",
    "cv2.waitKey(0)\n",
    "\n",
    "inter_cubic_interpolation = cv2.resize(image,None,fx=0.75, fy=0.75,interpolation = cv2.INTER_CUBIC)\n",
    "cv2.imshow('inter_cubic_interpolation',inter_cubic_interpolation)\n",
    "cv2.waitKey(0)\n",
    "\n",
    "inter_nearest_interpolation = cv2.resize(image,(600,600),interpolation = cv2.INTER_NEAREST)\n",
    "cv2.imshow('inter_nearest_interpolation',inter_nearest_interpolation)\n",
    "cv2.waitKey(0)\n",
    "\n",
    "cv2.destroyAllWindows()"
   ]
  },
  {
   "cell_type": "code",
   "execution_count": null,
   "id": "feecad62",
   "metadata": {},
   "outputs": [],
   "source": []
  },
  {
   "cell_type": "markdown",
   "id": "252f3dfe",
   "metadata": {},
   "source": [
    "# Image Pyramid"
   ]
  },
  {
   "cell_type": "markdown",
   "id": "5976418b",
   "metadata": {},
   "source": [
    "-   Pyramiding image refers to either upscaling(enlarging) and downscaling(shrinking image)\n",
    "\n",
    "-   It is a another way of resizing the image which is quite fast and easy and the output image will\n",
    "    be the half of the original image,\n",
    "    \n",
    "-   It is quite useful while in object detection,\n",
    "\n",
    "-   While upscaling or enlarging the downscaled image the image quality is not same as origin one."
   ]
  },
  {
   "cell_type": "code",
   "execution_count": null,
   "id": "eea28a0b",
   "metadata": {},
   "outputs": [],
   "source": [
    "image = cv2.imread('images/tiger.jpeg')\n",
    "\n",
    "smaller = cv2.pyrDown(image)\n",
    "larger = cv2.pyrUp(smaller)\n",
    "\n",
    "cv2.imshow('smaller',smaller)\n",
    "cv2.imshow('larger',larger)\n",
    "\n",
    "cv2.waitKey(0)\n",
    "cv2.destroyAllWindows()"
   ]
  },
  {
   "cell_type": "markdown",
   "id": "e9da3074",
   "metadata": {},
   "source": [
    "# ROI"
   ]
  },
  {
   "cell_type": "markdown",
   "id": "080b56ed",
   "metadata": {},
   "source": [
    "- region of interest \n",
    "- using numpy array"
   ]
  },
  {
   "cell_type": "code",
   "execution_count": null,
   "id": "b274c918",
   "metadata": {},
   "outputs": [],
   "source": [
    "roi_image = image[400:850, 250:1250]\n",
    "cv2.imshow('roi',roi_image)\n",
    "\n",
    "cv2.waitKey(0)\n",
    "cv2.destroyAllWindows()"
   ]
  },
  {
   "cell_type": "code",
   "execution_count": null,
   "id": "b1eed9bf",
   "metadata": {},
   "outputs": [],
   "source": []
  },
  {
   "cell_type": "markdown",
   "id": "a92eac07",
   "metadata": {},
   "source": [
    "# Addition And Substraction Of Image\n",
    "\n"
   ]
  },
  {
   "cell_type": "markdown",
   "id": "89a6864b",
   "metadata": {},
   "source": [
    "- image size must be same\n",
    "- simple pixelwise addition has been done by opencv"
   ]
  },
  {
   "cell_type": "code",
   "execution_count": null,
   "id": "20220109",
   "metadata": {},
   "outputs": [],
   "source": [
    "image = cv2.imread('images/eiffel.jpg')\n",
    "\n",
    "dummy_image = np.ones(image.shape, dtype='uint8') * 100\n",
    "\n",
    "addition_image = cv2.add(image,dummy_image)\n",
    "cv2.imshow('addition_image',addition_image)\n",
    "\n",
    "substracted_image = cv2.subtract(image,dummy_image)\n",
    "cv2.imshow('substracted_image',substracted_image)\n",
    "\n",
    "cv2.waitKey(0)\n",
    "cv2.destroyAllWindows()"
   ]
  },
  {
   "cell_type": "code",
   "execution_count": null,
   "id": "2c73dd8a",
   "metadata": {},
   "outputs": [],
   "source": []
  },
  {
   "cell_type": "markdown",
   "id": "5561151f",
   "metadata": {},
   "source": [
    "# Bitwise Operation "
   ]
  },
  {
   "cell_type": "code",
   "execution_count": null,
   "id": "e512d2f0",
   "metadata": {},
   "outputs": [],
   "source": [
    "canvas = np.ones((300,300),dtype='uint8')\n",
    "cv2.rectangle(canvas, (100,100),(250,250), 255,-2)\n",
    "\n",
    "canvas1 = np.ones((300,300),dtype='uint8')\n",
    "cv2.ellipse(canvas1,(150,250),(150,150),30,0,180,255,-1)\n",
    "\n",
    "\n",
    "cv2.imshow('rectangle',canvas)\n",
    "cv2.imshow('ellipse',canvas1)\n",
    "\n",
    "cv2.waitKey(0)\n",
    "cv2.destroyAllWindows()"
   ]
  },
  {
   "cell_type": "code",
   "execution_count": null,
   "id": "61b25807",
   "metadata": {},
   "outputs": [],
   "source": [
    "tuple(np.array(canvas.shape[:2]) / 3)"
   ]
  },
  {
   "cell_type": "code",
   "execution_count": null,
   "id": "bfdaf23f",
   "metadata": {},
   "outputs": [],
   "source": [
    "# shows only where they are intersect\n",
    "and_operation = cv2.bitwise_and(canvas,canvas1)\n",
    "\n",
    "#shows the union of the two regions\n",
    "or_operation = cv2.bitwise_or(canvas,canvas1)\n",
    "\n",
    "# shows either exit by itself\n",
    "xor_operation = cv2.bitwise_xor(canvas,canvas1)\n",
    "\n",
    "#shows the opposite of the image\n",
    "not_operation = cv2.bitwise_not(canvas)\n",
    "\n",
    "cv2.imshow('and_operation',and_operation)\n",
    "cv2.imshow('or_operation',or_operation)\n",
    "cv2.imshow('xor_operation',xor_operation)\n",
    "cv2.imshow('not_operation',not_operation)\n",
    "\n",
    "cv2.waitKey(0)\n",
    "cv2.destroyAllWindows()"
   ]
  },
  {
   "cell_type": "markdown",
   "id": "195c2f9b",
   "metadata": {},
   "source": [
    "# Blurring"
   ]
  },
  {
   "cell_type": "raw",
   "id": "bb07243d",
   "metadata": {},
   "source": [
    "- Blurring is an operation where average the pixels within a region(kernel)\n",
    "using the opencv function cv2.filter2D()\n",
    "\n",
    "eg:\n",
    "    kernel = 1 |1 1 1|\n",
    "             - |1 1 1|\n",
    "             9 |1 1 1|"
   ]
  },
  {
   "cell_type": "code",
   "execution_count": null,
   "id": "b3cb3e19",
   "metadata": {},
   "outputs": [],
   "source": [
    "image = cv2.imread('images/tiger.jpeg')\n",
    "image = cv2.resize(image,(500,500),interpolation= cv2.INTER_AREA)\n",
    "\n",
    "kernel_3x3 = 1/9 * np.ones((3,3),dtype='uint8')\n",
    "average_blur = cv2.filter2D(image,-1,kernel_3x3)\n",
    "\n",
    "cv2.imshow('image',image)\n",
    "cv2.imshow('average_filter', average_blur)\n",
    "cv2.waitKey(0)\n",
    "cv2.destroyAllWindows()"
   ]
  },
  {
   "cell_type": "code",
   "execution_count": null,
   "id": "d33fb4de",
   "metadata": {},
   "outputs": [],
   "source": [
    "image = cv2.imread('images/tiger.jpeg')\n",
    "image = cv2.resize(image,(500,500),interpolation= cv2.INTER_AREA)\n",
    "\n",
    "\n",
    "blur = cv2.blur(image,(7,7))\n",
    "cv2.imshow('blur', blur)\n",
    "cv2.waitKey(0)\n",
    "\n",
    "\n",
    "gaussian_blur = cv2.GaussianBlur(image,(7,7),0)\n",
    "cv2.imshow('gaussian_blur', gaussian_blur)\n",
    "cv2.waitKey(0)\n",
    "\n",
    "#very effective in noise removal while keeping edges sharp\n",
    "#it is very slow compared to most filters.\n",
    "bilateral_blur = cv2.bilateralFilter(image,9,75,75)\n",
    "cv2.imshow('bilateral_blur', bilateral_blur)\n",
    "cv2.waitKey(0)\n",
    "\n",
    "cv2.destroyAllWindows()\n"
   ]
  },
  {
   "cell_type": "markdown",
   "id": "d22faa5c",
   "metadata": {},
   "source": [
    "# Sharpening"
   ]
  },
  {
   "cell_type": "markdown",
   "id": "c57bb00b",
   "metadata": {},
   "source": [
    "- By altering the kernel we can implement sharpening which help to strengthening the edges of an image"
   ]
  },
  {
   "cell_type": "raw",
   "id": "81632b24",
   "metadata": {},
   "source": [
    "kernel = |-1 -1 -1|\n",
    "         |-1  9 -1|\n",
    "         |-1 -1 -1|"
   ]
  },
  {
   "cell_type": "code",
   "execution_count": null,
   "id": "b4c2477e",
   "metadata": {},
   "outputs": [],
   "source": [
    "image = cv2.imread('images/tiger.jpeg')\n",
    "image = cv2.resize(image,(500,500),interpolation= cv2.INTER_AREA)\n",
    "\n",
    "kernel = np.array([[-1,-1,-1],[-1,9,-1],[-1,-1,-1]])\n",
    "\n",
    "sharpen_image = cv2.filter2D(image,-1,kernel)\n",
    "cv2.imshow('sharpen_image', sharpen_image)\n",
    "cv2.waitKey(0)\n",
    "\n",
    "cv2.destroyAllWindows()\n"
   ]
  },
  {
   "cell_type": "markdown",
   "id": "f9fb65d1",
   "metadata": {},
   "source": [
    "# Thresholding"
   ]
  },
  {
   "cell_type": "code",
   "execution_count": null,
   "id": "5dcd1499",
   "metadata": {},
   "outputs": [],
   "source": [
    "image = cv2.imread('images/tiger.jpeg',0)\n",
    "image = cv2.resize(image,(500,500),interpolation= cv2.INTER_AREA)\n",
    "\n",
    "ret,binary_thresh = cv2.threshold(image,127,255,cv2.THRESH_BINARY)\n",
    "cv2.imshow('binary_thresh', binary_thresh)\n",
    "cv2.waitKey(0)\n",
    "\n",
    "\n",
    "ret,binary_inv_thresh = cv2.threshold(image,127,255,cv2.THRESH_BINARY_INV)\n",
    "cv2.imshow('binary_inv_thresh', binary_inv_thresh)\n",
    "cv2.waitKey(0)\n",
    "\n",
    "\n",
    "ret,THRESH_TRUNC = cv2.threshold(image,127,255,cv2.THRESH_TRUNC)\n",
    "cv2.imshow('THRESH_TRUNC', THRESH_TRUNC)\n",
    "cv2.waitKey(0)\n",
    "\n",
    "\n",
    "ret,THRESH_TOZERO = cv2.threshold(image,127,255,cv2.THRESH_TOZERO)\n",
    "cv2.imshow('THRESH_TOZERO', THRESH_TOZERO)\n",
    "cv2.waitKey(0)\n",
    "\n",
    "\n",
    "ret, THRESH_TOZERO_INV = cv2.threshold(image,127,255,cv2.THRESH_TOZERO_INV)\n",
    "cv2.imshow('THRESH_TOZERO_INV', THRESH_TOZERO_INV)\n",
    "cv2.waitKey(0)\n",
    "\n",
    "ret, THRESH_OTSU = cv2.threshold(image,0,255,cv2.THRESH_OTSU)\n",
    "cv2.imshow('otsu compute THRESH_OTSU', THRESH_OTSU)\n",
    "print('thresh value',ret)\n",
    "cv2.waitKey(0)\n",
    "\n",
    "cv2.destroyAllWindows()"
   ]
  },
  {
   "cell_type": "markdown",
   "id": "aeea5398",
   "metadata": {},
   "source": [
    "# Adaptive Thresholding"
   ]
  },
  {
   "cell_type": "markdown",
   "id": "2bcdcf43",
   "metadata": {},
   "source": [
    "*** cv2.adaptiveThreshold(image, max value, adaptive type, threshold type, block size, constant that is substracted from mean ***"
   ]
  },
  {
   "cell_type": "markdown",
   "id": "31c4bf99",
   "metadata": {},
   "source": [
    "- Block size must be odd number\n",
    "- adaptive thresholding type:\n",
    "        - cv2.ADAPTIVE_THREH_MEAN_C\n",
    "        - cv2.ADAPTIVE_THRESH_GAUSSIAN_C"
   ]
  },
  {
   "cell_type": "code",
   "execution_count": 3,
   "id": "dbd96014",
   "metadata": {},
   "outputs": [],
   "source": [
    "image = cv2.imread('images/tiger.jpeg',0)\n",
    "image = cv2.resize(image,(500,500),interpolation= cv2.INTER_AREA)\n",
    "\n",
    "adaptive_gaussian_thresh_image = cv2.adaptiveThreshold(image,255,cv2.ADAPTIVE_THRESH_GAUSSIAN_C, cv2.THRESH_BINARY,3,5)\n",
    "cv2.imshow('adaptive_gaussian_thresh_image', adaptive_gaussian_thresh_image)\n",
    "cv2.waitKey(0)\n",
    "\n",
    "adaptive_mean_thresh_image = cv2.adaptiveThreshold(image,255,cv2.ADAPTIVE_THRESH_MEAN_C, cv2.THRESH_BINARY,3,5)\n",
    "cv2.imshow('adaptive_mean_thresh_image', adaptive_mean_thresh_image)\n",
    "cv2.waitKey(0)\n",
    "\n",
    "adaptive_gaussian_thresh_image_window_9 = cv2.adaptiveThreshold(image,255,cv2.ADAPTIVE_THRESH_GAUSSIAN_C, cv2.THRESH_BINARY,9,5)\n",
    "cv2.imshow('adaptive_gaussian_thresh_image_window_9', adaptive_gaussian_thresh_image_window_9)\n",
    "cv2.waitKey(0)\n",
    "\n",
    "cv2.destroyAllWindows()"
   ]
  },
  {
   "cell_type": "markdown",
   "id": "499ae7b8",
   "metadata": {},
   "source": [
    "# Morphological Operation"
   ]
  },
  {
   "cell_type": "markdown",
   "id": "4abdd618",
   "metadata": {},
   "source": [
    "- ***Dilate***: Add pixels to the boundries of an objects in an image\n",
    "- **Erode**: Remove pixels at the boundries of an objects in an image\n",
    "- ***Open***: Erosion followed by Dilation\n",
    "- ***close***: Dilation followed by Erosion"
   ]
  },
  {
   "cell_type": "code",
   "execution_count": 18,
   "id": "9c3c336a",
   "metadata": {},
   "outputs": [],
   "source": [
    "image = cv2.imread('images/document.jpg',0)\n",
    "\n",
    "kernel = np.ones((3,3),np.uint8)\n",
    "\n",
    "cv2.imshow('original', image)\n",
    "cv2.waitKey(0)\n",
    "\n",
    "#erode\n",
    "erode_image = cv2.erode(image,kernel, iterations=1)\n",
    "cv2.imshow('erode_image', erode_image)\n",
    "cv2.waitKey(0)\n",
    "\n",
    "#dilate\n",
    "dilate_image = cv2.dilate(image,kernel, iterations=1)\n",
    "cv2.imshow('dilate_image', dilate_image)\n",
    "cv2.waitKey(0)\n",
    "\n",
    "#dilate\n",
    "dilate_image = cv2.dilate(image,kernel, iterations=1)\n",
    "cv2.imshow('dilate_image', dilate_image)\n",
    "cv2.waitKey(0)\n",
    "\n",
    "#dilate\n",
    "dilate_image = cv2.dilate(image,kernel, iterations=1)\n",
    "cv2.imshow('dilate_image', dilate_image)\n",
    "cv2.waitKey(0)\n",
    "\n",
    "cv2.destroyAllWindows()"
   ]
  },
  {
   "cell_type": "code",
   "execution_count": null,
   "id": "6a4d43a3",
   "metadata": {},
   "outputs": [],
   "source": []
  }
 ],
 "metadata": {
  "kernelspec": {
   "display_name": "Python 3 (ipykernel)",
   "language": "python",
   "name": "python3"
  },
  "language_info": {
   "codemirror_mode": {
    "name": "ipython",
    "version": 3
   },
   "file_extension": ".py",
   "mimetype": "text/x-python",
   "name": "python",
   "nbconvert_exporter": "python",
   "pygments_lexer": "ipython3",
   "version": "3.10.4"
  }
 },
 "nbformat": 4,
 "nbformat_minor": 5
}
